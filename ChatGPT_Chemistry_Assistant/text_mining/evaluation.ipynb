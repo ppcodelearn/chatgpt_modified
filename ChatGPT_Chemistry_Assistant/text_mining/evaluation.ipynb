{
 "cells": [
  {
   "cell_type": "markdown",
   "metadata": {},
   "source": [
    "Evaluate Paragraph Selection Peformance with CHATGPT"
   ]
  },
  {
   "cell_type": "code",
   "execution_count": 40,
   "metadata": {},
   "outputs": [],
   "source": [
    "import pandas as pd\n",
    "import numpy as np\n",
    "import os\n",
    "from sklearn.metrics import f1_score\n",
    "from sklearn.metrics import accuracy_score\n",
    "from sklearn.metrics import confusion_matrix"
   ]
  },
  {
   "cell_type": "code",
   "execution_count": 60,
   "metadata": {},
   "outputs": [
    {
     "name": "stdout",
     "output_type": "stream",
     "text": [
      "Al_rabiah, Abdulrahman_Process_2022.pdf.csv.csv\n",
      "0.9545454545454546\n",
      "0.2608695652173913\n",
      "[[354  16]\n",
      " [  1   3]]\n",
      "Campos, Bruno_Detailed_2022.pdf.csv.csv\n",
      "0.8865384615384615\n",
      "0.25316455696202533\n",
      "[[451  55]\n",
      " [  4  10]]\n",
      "Falco, Marcello_Excergettic_2022.pdf.csv.csv\n",
      "0.9104803493449781\n",
      "0.19607843137254902\n",
      "[[412  24]\n",
      " [ 17   5]]\n",
      "Han, Zhenwei_Investigating_2020.pdf.csv.csv\n",
      "0.9494949494949495\n",
      "0.37499999999999994\n",
      "[[185   7]\n",
      " [  3   3]]\n",
      "He, Renchu_Multi_2023.pdf.csv.csv\n",
      "0.9867021276595744\n",
      "0.28571428571428575\n",
      "[[370   1]\n",
      " [  4   1]]\n",
      "Kohler, Andrew_Techno_2021.pdf.csv.csv\n",
      "0.9216417910447762\n",
      "0.19230769230769232\n",
      "[[489  27]\n",
      " [ 15   5]]\n",
      "Martinez, Victor_Conceptual_2023.pdf.csv.csv\n",
      "0.9616306954436451\n",
      "0.1111111111111111\n",
      "[[400   2]\n",
      " [ 14   1]]\n",
      "Muazzam, Yusra_Thermo_2022.pdf.csv.csv\n",
      "0.9036608863198459\n",
      "0.32432432432432434\n",
      "[[457  35]\n",
      " [ 15  12]]\n",
      "Mursics, Joszef_Process_2020.pdf.csv.csv\n",
      "0.8718535469107551\n",
      "0.3\n",
      "[[369  19]\n",
      " [ 37  12]]\n",
      "Chat GPT Val f1: 0.255 +- 0.075\n"
     ]
    }
   ],
   "source": [
    "result_dir = os.path.join(os.getcwd(),\"classification\")\n",
    "annotated_dir = os.path.join(os.getcwd(),\"annotated_csv\")\n",
    "\n",
    "f1_mean = []\n",
    "for pdf in (os.listdir(result_dir)):\n",
    "\n",
    "    print(pdf)\n",
    "    file_path = os.path.join(result_dir, pdf)\n",
    "    result_df = pd.read_csv(file_path)\n",
    "    # Define the substring to check for\n",
    "    substring_to_check = 'No'\n",
    "    yesstring_to_check = 'Yes'\n",
    "    # Replace the entire string if it contains the substring, otherwise keep it as it is\n",
    "    try:\n",
    "        result_df['classification'] = result_df['classification'].apply(lambda x: 'No' if substring_to_check in x else x)\n",
    "        result_df['classification'] = result_df['classification'].apply(lambda x: 'Yes' if yesstring_to_check in x else x)\n",
    "\n",
    "    except:\n",
    "        pass\n",
    "\n",
    "    result_df['classification'] = result_df['classification'].map({'Yes': 1, 'No': 0})\n",
    "    result_df['classification'] = result_df['classification'].fillna(0).astype(int)\n",
    "    y_pred = result_df[\"classification\"]\n",
    "    file_path = os.path.join(annotated_dir, pdf[:-4])\n",
    "    annotated_df = pd.read_csv(file_path)\n",
    "    annotated_df[\"Class\"] = np.where(annotated_df[\"Class\"] == 11, 1, annotated_df[\"Class\"])\n",
    "    y_val = annotated_df[\"Class\"]\n",
    "    print(accuracy_score(y_val, y_pred))\n",
    "    f1_mean.append(f1_score(y_val, y_pred))\n",
    "    print(f1_score(y_val, y_pred))\n",
    "    print(confusion_matrix(y_val, y_pred))\n",
    "\n",
    "print(f'Chat GPT Val f1: {np.mean(f1_mean):.3f} +- {np.std(f1_mean):.3f}')\n",
    "    "
   ]
  },
  {
   "cell_type": "code",
   "execution_count": null,
   "metadata": {},
   "outputs": [],
   "source": []
  }
 ],
 "metadata": {
  "kernelspec": {
   "display_name": "nlp_venv",
   "language": "python",
   "name": "python3"
  },
  "language_info": {
   "codemirror_mode": {
    "name": "ipython",
    "version": 3
   },
   "file_extension": ".py",
   "mimetype": "text/x-python",
   "name": "python",
   "nbconvert_exporter": "python",
   "pygments_lexer": "ipython3",
   "version": "3.11.0"
  },
  "orig_nbformat": 4
 },
 "nbformat": 4,
 "nbformat_minor": 2
}
